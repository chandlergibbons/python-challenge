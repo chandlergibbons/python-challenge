{
 "cells": [
  {
   "cell_type": "code",
   "execution_count": null,
   "metadata": {},
   "outputs": [],
   "source": [
    "import csv\n",
    "import pandas as pd"
   ]
  },
  {
   "cell_type": "code",
   "execution_count": null,
   "metadata": {},
   "outputs": [],
   "source": [
    "#Imports the csv data file and converts it into a dataframe\n",
    "fileone = '/Users/Chibbbins/desktop/python-challenge/PyBank/Resources/Bank_Resources_budget_data.csv'\n",
    "file_one_df = pd.read_csv(fileone)"
   ]
  },
  {
   "cell_type": "code",
   "execution_count": null,
   "metadata": {},
   "outputs": [],
   "source": [
    "#Calculates the total number of months included in the dataset\n",
    "index = file_one_df.index\n",
    "total_months = len(index)"
   ]
  },
  {
   "cell_type": "code",
   "execution_count": null,
   "metadata": {},
   "outputs": [],
   "source": [
    "#Calculates net total amount of Profit/Losses over the entire period\n",
    "total = file_one_df[\"Profit/Losses\"].sum()"
   ]
  },
  {
   "cell_type": "code",
   "execution_count": null,
   "metadata": {},
   "outputs": [],
   "source": [
    "#Iterates through the dataframe calculating the change in profit/loss monthly\n",
    "changes = []\n",
    "for x in range(total_months - 1):\n",
    "    val1 = (file_one_df.iloc[x][1])\n",
    "    val2 = (file_one_df.iloc[x + 1][1])\n",
    "    val3 = int(val1)\n",
    "    val4 = int(val2)\n",
    "    \n",
    "    changes.append(val4 - val3)"
   ]
  },
  {
   "cell_type": "code",
   "execution_count": null,
   "metadata": {},
   "outputs": [],
   "source": [
    "#Calulates average change from the changes list and rounds to 2 decimals\n",
    "average_change = str(round((sum(changes) / len(changes)), 2)) "
   ]
  },
  {
   "cell_type": "code",
   "execution_count": null,
   "metadata": {},
   "outputs": [],
   "source": [
    "#Finds the highest profit and asigns it to a variable\n",
    "maximum = int(file_one_df[\"Profit/Losses\"].max())\n",
    "#Finds and returns the month asociated with the max profit and returns it to a varable \n",
    "maxdate = file_one_df['Date'].where(file_one_df['Profit/Losses'] == maximum).dropna().values[0]"
   ]
  },
  {
   "cell_type": "code",
   "execution_count": null,
   "metadata": {},
   "outputs": [],
   "source": [
    "#Finds the lowest loss and asigns it to a variable\n",
    "minimum = file_one_df[\"Profit/Losses\"].min()\n",
    "#Finds and returns the month asociated with the lowest loss and returns it to a varable\n",
    "mindate = file_one_df['Date'].where(file_one_df['Profit/Losses'] == minimum).dropna().values[0]"
   ]
  },
  {
   "cell_type": "code",
   "execution_count": null,
   "metadata": {},
   "outputs": [],
   "source": [
    "#Returns a formated analysis to the terminal\n",
    "print(\"Fnancal Analysis\\n--------------------------\\nTotal Months: \" + str(total_months) + \n",
    "      \"\\nTotal: $\" + str(total) + \"\\nAverage Change: $\" + str(average_change) + \"\\nGreatest Increase in Profits: \" + \n",
    "      str(maxdate) + \" ($\" + str(maximum) + \")\" + \"\\nGreatest Decrease in Profits: \" + str(mindate) + \" ($\" + str(minimum) + \")\")"
   ]
  },
  {
   "cell_type": "code",
   "execution_count": null,
   "metadata": {},
   "outputs": [],
   "source": [
    "#Exports a text file with the results\n",
    "output_path = '/Users/Chibbbins/Desktop/python-challenge/PyBank/Analysis/analysis.txt'\n",
    "\n",
    "\n",
    "with open(\"/Users/Chibbbins/Desktop/python-challenge/PyBank/Analysis/analysis.txt\", \"a\") as f:\n",
    "\n",
    "    print(\"Fnancal Analysis\\n--------------------------\\nTotal Months: \" + str(total_months) + \n",
    "      \"\\nTotal: $\" + str(total) + \"\\nAverage Change: $\" + str(average_change) + \"\\nGreatest Increase in Profits: \" + \n",
    "      str(maxdate) + \" ($\" + str(maximum) + \")\" + \"\\nGreatest Decrease in Profits: \" + str(mindate) + \" ($\" + str(minimum) + \")\", file = f)"
   ]
  },
  {
   "cell_type": "code",
   "execution_count": null,
   "metadata": {},
   "outputs": [],
   "source": []
  }
 ],
 "metadata": {
  "kernelspec": {
   "display_name": "Python 3",
   "language": "python",
   "name": "python3"
  },
  "language_info": {
   "codemirror_mode": {
    "name": "ipython",
    "version": 3
   },
   "file_extension": ".py",
   "mimetype": "text/x-python",
   "name": "python",
   "nbconvert_exporter": "python",
   "pygments_lexer": "ipython3",
   "version": "3.7.6"
  }
 },
 "nbformat": 4,
 "nbformat_minor": 4
}
