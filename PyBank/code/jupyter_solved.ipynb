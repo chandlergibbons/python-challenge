{
 "cells": [
  {
   "cell_type": "code",
   "execution_count": 1,
   "metadata": {},
   "outputs": [],
   "source": [
    "import csv"
   ]
  },
  {
   "cell_type": "code",
   "execution_count": 2,
   "metadata": {},
   "outputs": [],
   "source": [
    "#stores the csv data file location \n",
    "fileone = '/Users/Chibbbins/desktop/python-challenge/PyBank/Resources/Bank_Resources_budget_data.csv'"
   ]
  },
  {
   "cell_type": "code",
   "execution_count": 25,
   "metadata": {},
   "outputs": [
    {
     "name": "stdout",
     "output_type": "stream",
     "text": [
      "Fnancal Analysis\n",
      "--------------------------\n",
      "Total Months: 86\n",
      "Total: $38382578\n",
      "Average Change: $-2315.12\n",
      "Greatest Increase in Profits: Feb-2012 ($1170593)\n",
      "Greatest Decrease in Profits: Sep-2013 ($-1196225)\n"
     ]
    }
   ],
   "source": [
    "# opens the file\n",
    "with open(fileone) as f:\n",
    "    #separates data and assigns the data set to a variable\n",
    "    csvreader = csv.reader(f, delimiter=',')\n",
    "    #all calc skips header\n",
    "    csv_header = next(csvreader)\n",
    "    \n",
    "    #varlaible asignments for calculations\n",
    "    month_count = 0\n",
    "    net_total = 0\n",
    "    profit_losses = []\n",
    "    changes = []\n",
    "    Date = []\n",
    "    \n",
    "    #counts total months and creates lists contaning each colomn\n",
    "    for row in csvreader:\n",
    "        month_count += 1\n",
    "        profit_losses.append(int(row[1]))\n",
    "        Date.append((row[0]))\n",
    "    \n",
    "    #Calculates net total amount of Profit/Losses over the entire period    \n",
    "    for a in profit_losses:\n",
    "        \n",
    "        net_total += a\n",
    "    \n",
    "    #Iterates through the dataframe calculating the change in profit/loss monthly\n",
    "    for b in range(month_count-1):\n",
    "        val1 = profit_losses[b]\n",
    "        val2 = profit_losses[b + 1]\n",
    "        \n",
    "        changes.append(val2 - val1)\n",
    "    \n",
    "    #Calulates average change from the changes list and rounds to 2 decimals    \n",
    "    average_change = str(round((sum(changes) / len(changes)), 2))         \n",
    "    \n",
    "    #Finds the highest profit and asigns it to a variable\n",
    "    maximum = max(profit_losses)\n",
    "    #Finds and returns the month asociated with the max profit and returns it to a varable \n",
    "    maxdate = profit_losses.index(maximum)\n",
    "    maxdate = Date[(maxdate)]\n",
    "    \n",
    "    #Finds the lowest loss and asigns it to a variable\n",
    "    minimum = min(profit_losses)\n",
    "    #Finds and returns the month asociated with the lowest loss and returns it to a varable\n",
    "    mindate = profit_losses.index(minimum)\n",
    "    mindate = Date[(mindate)]\n",
    "   \n",
    "#Returns a formated analysis to the terminal\n",
    "print(\"Fnancal Analysis\\n--------------------------\\nTotal Months: \" + str(month_count) + \n",
    "      \"\\nTotal: $\" + str(net_total) + \"\\nAverage Change: $\" + str(average_change) + \"\\nGreatest Increase in Profits: \" + \n",
    "      str(maxdate) + \" ($\" + str(maximum) + \")\" + \"\\nGreatest Decrease in Profits: \" + str(mindate) + \" ($\" + str(minimum) + \")\")\n",
    "\n",
    "#Exports a text file with the results\n",
    "output_path = '/Users/Chibbbins/Desktop/python-challenge/PyBank/Analysis/analysis.txt'\n",
    "\n",
    "\n",
    "with open(\"/Users/Chibbbins/Desktop/python-challenge/PyBank/Analysis/analysis.txt\", \"a\") as f:\n",
    "\n",
    "    print(\"Fnancal Analysis\\n--------------------------\\nTotal Months: \" + str(month_count) + \n",
    "      \"\\nTotal: $\" + str(net_total) + \"\\nAverage Change: $\" + str(average_change) + \"\\nGreatest Increase in Profits: \" + \n",
    "      str(maxdate) + \" ($\" + str(maximum) + \")\" + \"\\nGreatest Decrease in Profits: \" + str(mindate) + \" ($\" + str(minimum) + \")\", file = f)"
   ]
  },
  {
   "cell_type": "code",
   "execution_count": null,
   "metadata": {},
   "outputs": [],
   "source": [
    "\n"
   ]
  },
  {
   "cell_type": "code",
   "execution_count": null,
   "metadata": {},
   "outputs": [],
   "source": []
  }
 ],
 "metadata": {
  "kernelspec": {
   "display_name": "Python 3",
   "language": "python",
   "name": "python3"
  },
  "language_info": {
   "codemirror_mode": {
    "name": "ipython",
    "version": 3
   },
   "file_extension": ".py",
   "mimetype": "text/x-python",
   "name": "python",
   "nbconvert_exporter": "python",
   "pygments_lexer": "ipython3",
   "version": "3.7.6"
  }
 },
 "nbformat": 4,
 "nbformat_minor": 4
}
