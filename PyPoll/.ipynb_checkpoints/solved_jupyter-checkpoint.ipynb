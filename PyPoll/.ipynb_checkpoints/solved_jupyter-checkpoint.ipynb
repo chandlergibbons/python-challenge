{
 "cells": [
  {
   "cell_type": "code",
   "execution_count": 2,
   "metadata": {},
   "outputs": [],
   "source": [
    "import csv"
   ]
  },
  {
   "cell_type": "code",
   "execution_count": 62,
   "metadata": {},
   "outputs": [
    {
     "name": "stdout",
     "output_type": "stream",
     "text": [
      "Election Results\n",
      "---------------------------------\n",
      "Total Votes: 3521001\n",
      "---------------------------------\n",
      "Khan: 63.000% (2218231)\n",
      "Correy: 20.000% (704200)\n",
      "Khan: 14.000% (492940)\n",
      "Khan: 3.000% (105630)\n",
      "---------------------------------\n",
      "Winner: Khan\n",
      "---------------------------------\n"
     ]
    }
   ],
   "source": [
    "#imports the csv data file \n",
    "fileone = '/Users/Chibbbins/desktop/python-challenge/PyPoll/Resources/02-Homework_03-Python_Instructions_PyPoll_Resources_election_data.csv'\n",
    "\n",
    "# opens the file\n",
    "with open(fileone) as f:\n",
    "    #separates data and assigns the data set to a variable\n",
    "    csvreader = csv.reader(f, delimiter=',')\n",
    "    #all calc skips header\n",
    "    csv_header = next(csvreader)\n",
    "    \n",
    "    #varlaible asignments for calculations\n",
    "    vote_count = 0\n",
    "    votes = 0\n",
    "    candidates = []\n",
    "    unique_list = []\n",
    "    candidates_votes = []\n",
    "    candidates_perc = []\n",
    "    \n",
    "    #counts total votes and adds the names of candidates 3rd row intex 2 to a new list called candidates\n",
    "    for row in csvreader:\n",
    "        vote_count += 1\n",
    "        candidates.append(row[2])\n",
    "    \n",
    "    #takes list of candidates and creates a new list just including the unique values form the candidates list\n",
    "    for x in candidates:\n",
    "        if x not in unique_list: \n",
    "            unique_list.append(x)\n",
    "    \n",
    "    #iterates over each candidates name \n",
    "    for a in unique_list:\n",
    "        #iterates over list containing colomn 3 keeping a tally of each instance of each name then appending totals to a new list then resetting the tally for the next name\n",
    "        for b in candidates:\n",
    "            if b == a:\n",
    "                votes += 1\n",
    "        candidates_votes.append(votes)\n",
    "        votes = 0\n",
    "    #iterates through each candidates votes calculating the percent value for each candidate and appending it to a new list\n",
    "    for c in candidates_votes:\n",
    "        candidates_perc.append(c / vote_count * 100)\n",
    "    \n",
    "    #finds the most votes\n",
    "    max_vote = max(candidates_votes)\n",
    "    \n",
    "    #locates the index of the most votes\n",
    "    winner_index = candidates_votes.index(max_vote)\n",
    "    \n",
    "    #assigns the winners name tot a variable based on the index from the previous calculation\n",
    "    winner_name = (unique_list[winner_index]) \n",
    "            \n",
    "#prints to terminal full analysis with formating            \n",
    "print(\"Election Results\\n---------------------------------\\nTotal Votes: \" + str(vote_count) + \"\\n---------------------------------\\n\" \n",
    "      + candidates[0] + \": \" + str(\"{:.3f}\".format(candidates_perc[0])) + \"% (\" + str(candidates_votes[0]) + \")\\n\"\n",
    "      + candidates[1] + \": \" + str(\"{:.3f}\".format(candidates_perc[1])) + \"% (\" + str(candidates_votes[1]) + \")\\n\"\n",
    "      + candidates[2] + \": \" + str(\"{:.3f}\".format(candidates_perc[2])) + \"% (\" + str(candidates_votes[2]) + \")\\n\"\n",
    "      + candidates[3] + \": \" + str(\"{:.3f}\".format(candidates_perc[3])) + \"% (\" + str(candidates_votes[3]) + \")\\n---------------------------------\\nWinner: \"\n",
    "      + winner_name + \"\\n---------------------------------\")\n",
    "\n",
    "#stores a copy of the full analysis in a text file in the analysis folder\n",
    "with open(\"/Users/Chibbbins/Desktop/python-challenge/PyPoll/Analysis/analysis.txt\", \"a\") as f:\n",
    "    \n",
    "    print(\"Election Results\\n---------------------------------\\nTotal Votes: \" + str(vote_count) + \"\\n---------------------------------\\n\" \n",
    "      + candidates[0] + \": \" + str(\"{:.3f}\".format(candidates_perc[0])) + \"% (\" + str(candidates_votes[0]) + \")\\n\"\n",
    "      + candidates[1] + \": \" + str(\"{:.3f}\".format(candidates_perc[1])) + \"% (\" + str(candidates_votes[1]) + \")\\n\"\n",
    "      + candidates[2] + \": \" + str(\"{:.3f}\".format(candidates_perc[2])) + \"% (\" + str(candidates_votes[2]) + \")\\n\"\n",
    "      + candidates[3] + \": \" + str(\"{:.3f}\".format(candidates_perc[3])) + \"% (\" + str(candidates_votes[3]) + \")\\n---------------------------------\\nWinner: \"\n",
    "      + winner_name + \"\\n---------------------------------\", file = f)\n",
    "    \n",
    "\n"
   ]
  },
  {
   "cell_type": "code",
   "execution_count": null,
   "metadata": {},
   "outputs": [],
   "source": []
  }
 ],
 "metadata": {
  "kernelspec": {
   "display_name": "Python 3",
   "language": "python",
   "name": "python3"
  },
  "language_info": {
   "codemirror_mode": {
    "name": "ipython",
    "version": 3
   },
   "file_extension": ".py",
   "mimetype": "text/x-python",
   "name": "python",
   "nbconvert_exporter": "python",
   "pygments_lexer": "ipython3",
   "version": "3.7.6"
  }
 },
 "nbformat": 4,
 "nbformat_minor": 4
}
